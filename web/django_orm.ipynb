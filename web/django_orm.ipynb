In [1]: from crm.models import Student

In [2]: from django.db import connection

In [3]: print(connection.queries)
[]

In [4]: Student.objects.all()
Out[4]: <QuerySet [<Student: ff>, <Student: xxxx>, <Student: xyz>, <Student: Andy>, <Student: phebe>, <Student: Joey>, <Student: Jerry>, <Student: rachel>, <Student: tester6>, <Student: tester5>, <Student: tester4>, <Student: Ross>, <Student: Tom>, <Student: Forrest>]>

In [5]: print(connection.queries)
[{'sql': "\n                SELECT VERSION(),\n                       @@sql_mode,\n                       @@default_storage_engine,\n                       @@sql_auto_is_null,\n                       @@lower_case_table_names,\n                       CONVERT_TZ('2001-01-01 01:00:00', 'UTC', 'UTC') IS NOT NULL\n            ", 'time': '0.050'}, {'sql': 'SET SESSION TRANSACTION ISOLATION LEVEL READ COMMITTED', 'time': '0.012'}, {'sql': 'SELECT `tb_student`.`id`, `tb_student`.`channel_id`, `tb_student`.`name`, `tb_student`.`age`, `tb_student`.`sex`, `tb_student`.`qq`, `tb_student`.`phone`, `tb_student`.`c_time` FROM `tb_student` ORDER BY `tb_student`.`c_time` DESC LIMIT 21', 'time': '0.019'}]

In [6]: print(connection.queries[-1])
{'sql': 'SELECT `tb_student`.`id`, `tb_student`.`channel_id`, `tb_student`.`name`, `tb_student`.`age`, `tb_student`.`sex`, `tb_student`.`qq`, `tb_student`.`phone`, `tb_student`.`c_time` FROM `tb_student` ORDER BY `tb_student`.`c_time` DESC LIMIT 21', 'time': '0.019'}

In [7]: s=Student(name='gunser')

In [8]: s.name
Out[8]: 'gunser'

In [9]: s=Student(name='gunser')

In [10]: print(connection.queries[-1])
{'sql': 'SELECT `tb_student`.`id`, `tb_student`.`channel_id`, `tb_student`.`name`, `tb_student`.`age`, `tb_student`.`sex`, `tb_student`.`qq`, `tb_student`.`phone`, `tb_student`.`c_time` FROM `tb_student` ORDER BY `tb_student`.`c_time` DESC LIMIT 21', 'time': '0.019'}

In [11]: s.save()

In [12]: print(connection.queries[-1])
{'sql': "INSERT INTO `tb_student` (`channel_id`, `name`, `age`, `sex`, `qq`, `phone`, `c_time`) VALUES (NULL, 'gunser', NULL, 1, NULL, NULL, '2022-08-30 23:16:49.449531') RETURNING `tb_student`.`id`", 'time': '0.025'}

In [13]: st = Student.objects.create(name='sandy',sex=0)

In [14]: print(connection.queries[-1])
{'sql': "INSERT INTO `tb_student` (`channel_id`, `name`, `age`, `sex`, `qq`, `phone`, `c_time`) VALUES (NULL, 'sandy', NULL, 0, NULL, NULL, '2022-08-30 23:22:50.840951') RETURNING `tb_student`.`id`", 'time': '0.021'}

In [15]: st
Out[15]: <Student: sandy>

In [16]: st.name
Out[16]: 'sandy'

In [17]: Student.objects.get_or_create(name='sam')
Out[17]: (<Student: sam>, True)

In [18]: print(connection.queries[-2:])
[{'sql': "SELECT `tb_student`.`id`, `tb_student`.`channel_id`, `tb_student`.`name`, `tb_student`.`age`, `tb_student`.`sex`, `tb_student`.`qq`, `tb_student`.`phone`, `tb_student`.`c_time` FROM `tb_student` WHERE `tb_student`.`name` = 'sam' LIMIT 21", 'time': '0.020'}, {'sql': "INSERT INTO `tb_student` (`channel_id`, `name`, `age`, `sex`, `qq`, `phone`, `c_time`) VALUES (NULL, 'sam', NULL, 1, NULL, NULL, '2022-08-30 23:38:58.536868') RETURNING `tb_student`.`id`", 'time': '0.013'}]

In [19]: Student.objects.get_or_create(name='sam')
Out[19]: (<Student: sam>, False)

In [20]: print(connection.queries[-1:])
[{'sql': "SELECT `tb_student`.`id`, `tb_student`.`channel_id`, `tb_student`.`name`, `tb_student`.`age`, `tb_student`.`sex`, `tb_student`.`qq`, `tb_student`.`phone`, `tb_student`.`c_time` FROM `tb_student` WHERE `tb_student`.`name` = 'sam' LIMIT 21", 'time': '0.016'}]

In [21]: 

In [9]: s=Student.objects.filter(name='ross')

In [10]: s
Out[10]: <QuerySet [<Student: ross>, <Student: Ross>]>

In [11]: print(connection.queries[-1])
{'sql': "SELECT `tb_student`.`id`, `tb_student`.`channel_id`, `tb_student`.`name`, `tb_student`.`age`, `tb_student`.`sex`, `tb_student`.`qq`, `tb_student`.`phone`, `tb_student`.`c_time` FROM `tb_student` WHERE `tb_student`.`name` = 'ross' ORDER BY `tb_student`.`c_time` DESC LIMIT 21", 'time': '0.019'}

In [12]: s=Student.objects.get(name='Tom')

In [13]: s
Out[13]: <Student: Tom>

In [14]: s.age=22

In [15]: s.save()

In [16]: print(connection.queries[-1])
{'sql': "UPDATE `tb_student` SET `channel_id` = NULL, `name` = 'Tom', `age` = 22, `sex` = 1, `qq` = NULL, `phone` = NULL, `c_time` = '2022-07-09 22:16:24.194983' WHERE `tb_student`.`id` = 2", 'time': '0.020'}

In [17]: res=Student.objects.all().update(sex=1)

In [18]: res
Out[18]: 18

In [19]: print(connection.queries[-1])
{'sql': 'UPDATE `tb_student` SET `sex` = 1', 'time': '0.020'}

In [20]: res=Student.objects.filter(name='sam').update(sex=0)

In [21]: res
Out[21]: 1

In [22]: print(connection.queries[-1])
{'sql': "UPDATE `tb_student` SET `sex` = 0 WHERE `tb_student`.`name` = 'sam'", 'time': '0.013'}

In [23]: s=Student.objects.get(name='Tom')

In [24]: s.id
Out[24]: 2

In [25]: s.delete()
Out[25]: (1, {'crm.Student': 1})

In [26]: print(connection.queries[-1])
{'sql': 'DELETE FROM `tb_student` WHERE `tb_student`.`id` IN (2)', 'time': '0.012'}

In [27]: res=Student.objects.filter(name='ross').delete()

In [28]: print(connection.queries[-1])
{'sql': 'DELETE FROM `tb_student` WHERE `tb_student`.`id` IN (21, 3)', 'time': '0.012'}

In [29]: res
Out[29]: (2, {'crm.Student': 2})

