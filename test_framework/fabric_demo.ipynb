{
 "cells": [
  {
   "cell_type": "code",
   "execution_count": 6,
   "id": "39036dcc",
   "metadata": {},
   "outputs": [],
   "source": [
    "from fabric import Connection\n",
    "connection=Connection(host=\"root@127.0.0.1\",connect_kwargs={\"password\":\"your_password\"})"
   ]
  },
  {
   "cell_type": "code",
   "execution_count": 8,
   "id": "2d4a7a40",
   "metadata": {
    "scrolled": true
   },
   "outputs": [
    {
     "name": "stdout",
     "output_type": "stream",
     "text": [
      "root\n"
     ]
    },
    {
     "data": {
      "text/plain": [
       "<Result cmd='whoami' exited=0>"
      ]
     },
     "execution_count": 8,
     "metadata": {},
     "output_type": "execute_result"
    }
   ],
   "source": [
    "connection.run(\"whoami\")"
   ]
  },
  {
   "cell_type": "code",
   "execution_count": 9,
   "id": "3d02aab3",
   "metadata": {},
   "outputs": [
    {
     "name": "stdout",
     "output_type": "stream",
     "text": [
      "Linux VM-16-8-centos 3.10.0-1160.62.1.el7.x86_64 #1 SMP Tue Apr 5 16:57:59 UTC 2022 x86_64 x86_64 x86_64 GNU/Linux\n"
     ]
    },
    {
     "data": {
      "text/plain": [
       "<Result cmd='uname -a' exited=0>"
      ]
     },
     "execution_count": 9,
     "metadata": {},
     "output_type": "execute_result"
    }
   ],
   "source": [
    "connection.run(\"uname -a\")"
   ]
  },
  {
   "cell_type": "code",
   "execution_count": null,
   "id": "7489d489",
   "metadata": {},
   "outputs": [],
   "source": []
  }
 ],
 "metadata": {
  "kernelspec": {
   "display_name": "Python 3",
   "language": "python",
   "name": "python3"
  },
  "language_info": {
   "codemirror_mode": {
    "name": "ipython",
    "version": 3
   },
   "file_extension": ".py",
   "mimetype": "text/x-python",
   "name": "python",
   "nbconvert_exporter": "python",
   "pygments_lexer": "ipython3",
   "version": "3.8.8"
  }
 },
 "nbformat": 4,
 "nbformat_minor": 5
}
